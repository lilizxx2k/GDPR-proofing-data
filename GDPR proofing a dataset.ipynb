{
 "cells": [
  {
   "cell_type": "code",
   "execution_count": 66,
   "id": "5415d4b8-59f7-4eb2-a923-f25a15acea0b",
   "metadata": {},
   "outputs": [],
   "source": [
    "# Import libraries \n",
    "import pandas as pd\n",
    "import uuid"
   ]
  },
  {
   "cell_type": "code",
   "execution_count": 68,
   "id": "1b290c8e-2af4-4ad6-b9b9-20a1ea7f4367",
   "metadata": {},
   "outputs": [
    {
     "name": "stdout",
     "output_type": "stream",
     "text": [
      "['Dataset 1 - Survey', 'Dataset 2 - Twitter data', 'Dataset 3 - Found dataset']\n"
     ]
    }
   ],
   "source": [
    "# Load the Excel file\n",
    "file_path = \"Dataset for Exam Essay 2 - Data Governance Exam 2025.xlsx\"\n",
    "# Load all sheets\n",
    "xls = pd.ExcelFile(file_path)\n",
    "sheet_names = xls.sheet_names  \n",
    "print(sheet_names)"
   ]
  },
  {
   "cell_type": "code",
   "execution_count": 70,
   "id": "49dea4ac-8ec8-413d-92e8-6d3020b4546c",
   "metadata": {},
   "outputs": [],
   "source": [
    "# Read all sheets and fix column names\n",
    "dfs = {}\n",
    "for sheet in sheet_names:\n",
    "    df = pd.read_excel(xls, sheet_name=sheet, header=None)  # Don't use header row\n",
    "    df.columns = df.iloc[1]  # Set row 0 as column names\n",
    "    df = df[2:]  # Drop row 0\n",
    "    df.columns = df.columns.str.strip()  # Clean spaces\n",
    "    dfs[sheet] = df.reset_index(drop=True)"
   ]
  },
  {
   "cell_type": "code",
   "execution_count": 72,
   "id": "8a8ebc81-cf74-4e71-9e93-c50c171039eb",
   "metadata": {},
   "outputs": [
    {
     "name": "stdout",
     "output_type": "stream",
     "text": [
      "Columns in Dataset 1 - Survey: ['Name', 'Birth year', 'Occupation', 'Education', 'Monthly income (DKK)', 'Political orientation', 'Religious belief', '\"How much do you pay for online news subscriptions per month (in DKK)\"?', '\"On a scale from 1-5, how much do engage with news sources on social media?\"']\n",
      "Columns in Dataset 2 - Twitter data: ['Comment #', 'Name', 'date', 'comment']\n",
      "Columns in Dataset 3 - Found dataset: ['Name', 'Date of purchase', 'Geolocation', 'Credit card number', 'Telephone number', 'Subscription', 'Number of Other Subscriptions']\n"
     ]
    }
   ],
   "source": [
    "# Replace 'Profile name' with 'Name' in 'Dataset 2 - Twitter data'\n",
    "if 'Dataset 2 - Twitter data' in dfs:\n",
    "    dfs['Dataset 2 - Twitter data'] = dfs['Dataset 2 - Twitter data'].rename(columns={'Profile name': 'Name'})\n",
    "    \n",
    "# Print column names to verify\n",
    "for sheet in dfs:\n",
    "    print(f\"Columns in {sheet}: {dfs[sheet].columns.tolist()}\")"
   ]
  },
  {
   "cell_type": "code",
   "execution_count": 74,
   "id": "5c76ece1-a3c8-416b-b19e-4b8d8af52d3d",
   "metadata": {},
   "outputs": [],
   "source": [
    "# Trim column names (remove spaces) for consistency\n",
    "for sheet in dfs:\n",
    "    dfs[sheet].columns = dfs[sheet].columns.str.strip()\n",
    "\n",
    "# Merge datasets on the 'Name' column, ensuring missing values are NaN\n",
    "merged_df = dfs[sheet_names[0]]\n",
    "for sheet in sheet_names[1:]:\n",
    "    merged_df = pd.merge(merged_df, dfs[sheet], on=\"Name\", how=\"outer\")"
   ]
  },
  {
   "cell_type": "code",
   "execution_count": 76,
   "id": "9681e8b4-74fe-4f66-a38d-a06c3f089011",
   "metadata": {},
   "outputs": [
    {
     "name": "stdout",
     "output_type": "stream",
     "text": [
      "1                 Name birth_year_bracket\n",
      "0  Alexander Rodriguez          1990-1999\n",
      "1         Amelia Brown          1960-1969\n",
      "2       Andrew Juncker          2000-2011\n",
      "3       Anthony Nguyen          2000-2011\n",
      "5            Ava Patel          1980-1989\n"
     ]
    },
    {
     "name": "stderr",
     "output_type": "stream",
     "text": [
      "/var/folders/pf/z1vyy6q91hngl8lsry7fc3lw0000gn/T/ipykernel_69971/2131356986.py:17: FutureWarning: The behavior of Series.replace (and DataFrame.replace) with CategoricalDtype is deprecated. In a future version, replace will only be used for cases that preserve the categories. To change the categories, use ser.cat.rename_categories instead.\n",
      "  merged_df['birth_year_bracket'] = merged_df['birth_year_bracket'].replace(\n"
     ]
    }
   ],
   "source": [
    "# Remove anyone with birth year above 2012 as these are (potentially) below the age of 13 \n",
    "merged_df = merged_df[merged_df['Birth year'] < 2012]\n",
    "\n",
    "# Remove the 'comment' column for anyone with birth year above 2006 as these were below 13 at the time of posting\n",
    "merged_df.loc[merged_df['Birth year'] > 2006, 'comment'] = None  \n",
    "\n",
    "# Create bins for each decade from 1900 to 2020 (steps of 10 years) to increase anonymity \n",
    "bins = list(range(1900, 2031, 10))  \n",
    "\n",
    "# Create labels for each decade range, and merge the last two bins (2000-2009 and 2010-2019) into one labeled '2000-2020'\n",
    "labels = [f\"{i}-{i+9}\" for i in range(1900, 2021, 10)] \n",
    "\n",
    "# Apply pd.cut() to the 'birth year' column to assign each year to the appropriate bin\n",
    "merged_df['birth_year_bracket'] = pd.cut(merged_df['Birth year'], bins=bins, labels=labels, right=True, include_lowest=True)\n",
    "\n",
    "# Merge 'birth_year_bracket' for people in the 2000-2009 and 2010-2019 ranges to 2000-2011\n",
    "merged_df['birth_year_bracket'] = merged_df['birth_year_bracket'].replace(\n",
    "    {'2000-2009': '2000-2011', '2010-2019': '2000-2011'}\n",
    ")\n",
    "# Show the updated columns\n",
    "print(merged_df[['Name', 'birth_year_bracket']].head())"
   ]
  },
  {
   "cell_type": "code",
   "execution_count": 83,
   "id": "8f9cf07b-7423-4f61-9f0f-9cb86298fb17",
   "metadata": {},
   "outputs": [
    {
     "name": "stdout",
     "output_type": "stream",
     "text": [
      "1                 Name income_bracket_usd Price_of_subscription_in_USD\n",
      "0  Alexander Rodriguez              4k-6k                         0.14\n",
      "1         Amelia Brown              4k-6k                        14.56\n",
      "2       Andrew Juncker               0-2k                         4.06\n",
      "3       Anthony Nguyen               0-2k                        32.34\n",
      "5            Ava Patel              4k-6k                        22.68\n"
     ]
    }
   ],
   "source": [
    "# Conversion rate from DKK to USD \n",
    "conversion_rate = 0.14  \n",
    "\n",
    "# Convert 'income' column from DKK to USD\n",
    "merged_df['income_usd'] = merged_df['Monthly income (DKK)'] * conversion_rate\n",
    "\n",
    "# Define income brackets\n",
    "income_bins = [0, 2000, 4000, 6000, 8000, 10000, 12000, 14000, 16000, 18000, 20000, 22000, 24000, 26000, 28000, 30000, float('inf')]  \n",
    "income_labels = [\"0-2k\", \"2k-4k\", \"4k-6k\", \"6k-8k\", \"8k-10k\", \"10k-12k\", \"12k-14k\", \"14k-16k\", \"16k-18k\", \"18k-20k\", \"20k-22k\", \"22k-24k\", \"24k-26k\", \"26k-28k\", \"28k-30k\", \"30k+\"]  # Labels for each range\n",
    "\n",
    "# Create the 'income_bracket' column based on the USD values\n",
    "merged_df['income_bracket_usd'] = pd.cut(merged_df['income_usd'], bins=income_bins, labels=income_labels, right=False)\n",
    "\n",
    "# Convert the 'How_much_do_you_pay_for_online_news_subscriptions_per_month_(in_DKK)' column from DKK to USD\n",
    "merged_df['Price_of_subscription_in_USD'] = merged_df['\"How much do you pay for online news subscriptions per month (in DKK)\"?'] * conversion_rate\n",
    "\n",
    "# Show the updated columns\n",
    "print(merged_df[['Name', 'income_bracket_usd', 'Price_of_subscription_in_USD']].head())"
   ]
  },
  {
   "cell_type": "code",
   "execution_count": 85,
   "id": "cbc8268f-6497-42af-9e01-b08739393bb1",
   "metadata": {},
   "outputs": [
    {
     "name": "stdout",
     "output_type": "stream",
     "text": [
      "1                 Name                       Anonymized_Name\n",
      "0  Alexander Rodriguez  46b400a5-7199-45a2-89a8-fa98a82a1c77\n",
      "1         Amelia Brown  6544cdab-5fc2-4f44-ae8c-034d499f7ee0\n",
      "2       Andrew Juncker  594dfc78-9732-490e-bf25-3e9b521ea441\n",
      "3       Anthony Nguyen  749f5199-55fd-40a6-9eb0-aad66b5a776c\n",
      "5            Ava Patel  77bc6f49-e4cd-4a24-859b-9e201cd01a20\n"
     ]
    }
   ],
   "source": [
    "# Create a function to generate a random code for each name\n",
    "def generate_random_code():\n",
    "    return str(uuid.uuid4())  \n",
    "\n",
    "# Anonymize the 'Name' column by mapping each unique name to a random code\n",
    "merged_df['Anonymized_Name'] = merged_df['Name'].apply(lambda x: generate_random_code())\n",
    "\n",
    "# Show the updated columns\n",
    "print(merged_df[['Name', 'Anonymized_Name']].head())"
   ]
  },
  {
   "cell_type": "code",
   "execution_count": 87,
   "id": "72197a08-e921-47a9-9347-ff9fd9e37051",
   "metadata": {},
   "outputs": [
    {
     "name": "stdout",
     "output_type": "stream",
     "text": [
      "1                                Comment_paraphrased\n",
      "0  As a passionate socialist, I highly recommend ...\n",
      "1                                                NaN\n",
      "2                                                NaN\n",
      "3  I really enjoy this news website. It simplifie...\n",
      "5              I use it to keep my kids entertained.\n"
     ]
    }
   ],
   "source": [
    "# Paraphrase comments \n",
    "comment_replacements = {\n",
    "    \"I love this news site. It makes everything easier.\": \"I really enjoy this news website. It simplifies things a lot.\",\n",
    "    \"I use it to entertain my kids, who are 5 and 6 years of age.\": \"I use it to keep my kids entertained.\",\n",
    "    \"I hate this news outlet.\": \"I'm not a fan of this news outlet.\",\n",
    "    \"This is a great sight, I really like it, and it supports my political beliefs as a conservative.\": \"This site is fantastic; I really appreciate it, and it aligns with my conservative views.\",\n",
    "    \"I can surely recommend it for other liberals out there!\": \"I would definitely recommend it to other liberals!\",\n",
    "    \"Great site, five stars!\": \"Awesome site, I give it five stars!\",\n",
    "    \"Great, I love it.\": \"Awesome, I really enjoy it.\",\n",
    "    \"Being a socialist by heart, i really recommend this site.\": \"As a passionate socialist, I highly recommend this site.\",\n",
    "    \"Does the app work for anyone else?\": \"Does the application work for others?\",\n",
    "    \"Can someone recommend other news sites better than this one?\": \"Can anyone suggest better news sites than this one?\",\n",
    "    \"Works fine, but the features don't align with my religious beliefs as a muslim.\": \"It works well, but the features don’t match my Muslim beliefs.\",\n",
    "    \"Can someone tell me if there is a way to filter the news stories?\": \"Can someone let me know if there’s a way to filter the news articles?\"\n",
    "}\n",
    "\n",
    "# Apply the replacements to the 'comment' column\n",
    "merged_df['Comment_paraphrased'] = merged_df['comment'].replace(comment_replacements)\n",
    "\n",
    "# Print the updated dataframe's first few rows to verify\n",
    "print(merged_df[['Comment_paraphrased']].head())\n"
   ]
  },
  {
   "cell_type": "code",
   "execution_count": 91,
   "id": "e00782a7-b873-409c-b0f3-5cf7add1a7a6",
   "metadata": {},
   "outputs": [],
   "source": [
    "# Remove unecessary data \n",
    "columns_to_drop = ['Date of purchase', 'Geolocation', 'Credit card number', 'income_usd', \n",
    "                   '\"How much do you pay for online news subscriptions per month (in DKK)\"?', \n",
    "                   'Telephone number', 'Number of Other Subscriptions', 'date', 'Monthly income (DKK)', \n",
    "                   'Name', 'Birth year', 'comment']\n",
    "merged_df.drop(columns=columns_to_drop, inplace=True)"
   ]
  },
  {
   "cell_type": "code",
   "execution_count": 99,
   "id": "5dc78f91-8e8b-40df-bde9-7bf8506539f1",
   "metadata": {},
   "outputs": [
    {
     "name": "stdout",
     "output_type": "stream",
     "text": [
      "Index(['Anonymized_name', 'Occupation', 'Education', 'Political_orientation',\n",
      "       'Religious_belief', 'Extent_of_engagement', 'Comment_number',\n",
      "       'Subscription', 'Birth_year_bracket', 'Income_bracket_usd',\n",
      "       'Price_of_subscription_in_usd', 'Comment_paraphrased'],\n",
      "      dtype='object', name=1)\n"
     ]
    }
   ],
   "source": [
    "# Replace # with Number\n",
    "merged_df.columns = merged_df.columns.str.replace('#', 'Number')  \n",
    "# Simplify column name\n",
    "merged_df.columns = merged_df.columns.str.replace('on_a_scale_from_1-5,_how_much_do_engage_with_news_sources_on_social_media?', 'Extent_of_Engagement')  \n",
    "# Capitalize column names\n",
    "merged_df.columns = merged_df.columns.str.capitalize()  \n",
    "# Remove double quotes from all column names\n",
    "merged_df.columns = merged_df.columns.str.replace('\"', '')\n",
    "# Replace spaces with underscores in all column names of the merged dataframe\n",
    "merged_df.columns = merged_df.columns.str.replace(' ', '_')\n",
    "# Move 'Anonymized Name' to the first column\n",
    "cols = ['Anonymized_name'] + [col for col in merged_df if col != 'Anonymized_name']\n",
    "merged_df = merged_df[cols]\n",
    "# Display the updated column names\n",
    "print(merged_df.columns)"
   ]
  },
  {
   "cell_type": "code",
   "execution_count": 101,
   "id": "e8b57399-baa3-47ff-83f1-c03a11ca268a",
   "metadata": {},
   "outputs": [
    {
     "data": {
      "text/html": [
       "<div>\n",
       "<style scoped>\n",
       "    .dataframe tbody tr th:only-of-type {\n",
       "        vertical-align: middle;\n",
       "    }\n",
       "\n",
       "    .dataframe tbody tr th {\n",
       "        vertical-align: top;\n",
       "    }\n",
       "\n",
       "    .dataframe thead th {\n",
       "        text-align: right;\n",
       "    }\n",
       "</style>\n",
       "<table border=\"1\" class=\"dataframe\">\n",
       "  <thead>\n",
       "    <tr style=\"text-align: right;\">\n",
       "      <th>1</th>\n",
       "      <th>Anonymized_name</th>\n",
       "      <th>Occupation</th>\n",
       "      <th>Education</th>\n",
       "      <th>Political_orientation</th>\n",
       "      <th>Religious_belief</th>\n",
       "      <th>Extent_of_engagement</th>\n",
       "      <th>Comment_number</th>\n",
       "      <th>Subscription</th>\n",
       "      <th>Birth_year_bracket</th>\n",
       "      <th>Income_bracket_usd</th>\n",
       "      <th>Price_of_subscription_in_usd</th>\n",
       "      <th>Comment_paraphrased</th>\n",
       "    </tr>\n",
       "  </thead>\n",
       "  <tbody>\n",
       "    <tr>\n",
       "      <th>0</th>\n",
       "      <td>46b400a5-7199-45a2-89a8-fa98a82a1c77</td>\n",
       "      <td>Retired</td>\n",
       "      <td>University</td>\n",
       "      <td>Liberal</td>\n",
       "      <td>Atheist</td>\n",
       "      <td>1</td>\n",
       "      <td>Comment 13</td>\n",
       "      <td>Wired</td>\n",
       "      <td>1990-1999</td>\n",
       "      <td>4k-6k</td>\n",
       "      <td>0.14</td>\n",
       "      <td>As a passionate socialist, I highly recommend ...</td>\n",
       "    </tr>\n",
       "    <tr>\n",
       "      <th>1</th>\n",
       "      <td>6544cdab-5fc2-4f44-ae8c-034d499f7ee0</td>\n",
       "      <td>Retired</td>\n",
       "      <td>Vocational training</td>\n",
       "      <td>Conservative</td>\n",
       "      <td>Lutheran</td>\n",
       "      <td>3</td>\n",
       "      <td>NaN</td>\n",
       "      <td>Financial Times</td>\n",
       "      <td>1960-1969</td>\n",
       "      <td>4k-6k</td>\n",
       "      <td>14.56</td>\n",
       "      <td>NaN</td>\n",
       "    </tr>\n",
       "    <tr>\n",
       "      <th>2</th>\n",
       "      <td>594dfc78-9732-490e-bf25-3e9b521ea441</td>\n",
       "      <td>University Student</td>\n",
       "      <td>High school</td>\n",
       "      <td>NaN</td>\n",
       "      <td>Buddhist</td>\n",
       "      <td>2</td>\n",
       "      <td>NaN</td>\n",
       "      <td>WashingtonPost</td>\n",
       "      <td>2000-2011</td>\n",
       "      <td>0-2k</td>\n",
       "      <td>4.06</td>\n",
       "      <td>NaN</td>\n",
       "    </tr>\n",
       "    <tr>\n",
       "      <th>3</th>\n",
       "      <td>749f5199-55fd-40a6-9eb0-aad66b5a776c</td>\n",
       "      <td>University Student</td>\n",
       "      <td>High school</td>\n",
       "      <td>NaN</td>\n",
       "      <td>Atheist</td>\n",
       "      <td>4</td>\n",
       "      <td>Comment 1</td>\n",
       "      <td>NYT</td>\n",
       "      <td>2000-2011</td>\n",
       "      <td>0-2k</td>\n",
       "      <td>32.34</td>\n",
       "      <td>I really enjoy this news website. It simplifie...</td>\n",
       "    </tr>\n",
       "    <tr>\n",
       "      <th>5</th>\n",
       "      <td>77bc6f49-e4cd-4a24-859b-9e201cd01a20</td>\n",
       "      <td>Military officer</td>\n",
       "      <td>Millitary school</td>\n",
       "      <td>Socialist</td>\n",
       "      <td>Catholic</td>\n",
       "      <td>3</td>\n",
       "      <td>Comment 3</td>\n",
       "      <td>Politiken</td>\n",
       "      <td>1980-1989</td>\n",
       "      <td>4k-6k</td>\n",
       "      <td>22.68</td>\n",
       "      <td>I use it to keep my kids entertained.</td>\n",
       "    </tr>\n",
       "  </tbody>\n",
       "</table>\n",
       "</div>"
      ],
      "text/plain": [
       "1                       Anonymized_name          Occupation  \\\n",
       "0  46b400a5-7199-45a2-89a8-fa98a82a1c77             Retired   \n",
       "1  6544cdab-5fc2-4f44-ae8c-034d499f7ee0             Retired   \n",
       "2  594dfc78-9732-490e-bf25-3e9b521ea441  University Student   \n",
       "3  749f5199-55fd-40a6-9eb0-aad66b5a776c  University Student   \n",
       "5  77bc6f49-e4cd-4a24-859b-9e201cd01a20    Military officer   \n",
       "\n",
       "1            Education Political_orientation Religious_belief  \\\n",
       "0           University               Liberal          Atheist   \n",
       "1  Vocational training          Conservative         Lutheran   \n",
       "2          High school                   NaN         Buddhist   \n",
       "3          High school                   NaN          Atheist   \n",
       "5     Millitary school             Socialist         Catholic   \n",
       "\n",
       "1 Extent_of_engagement Comment_number     Subscription Birth_year_bracket  \\\n",
       "0                    1     Comment 13            Wired          1990-1999   \n",
       "1                    3            NaN  Financial Times          1960-1969   \n",
       "2                    2            NaN   WashingtonPost          2000-2011   \n",
       "3                    4      Comment 1              NYT          2000-2011   \n",
       "5                    3      Comment 3        Politiken          1980-1989   \n",
       "\n",
       "1 Income_bracket_usd Price_of_subscription_in_usd  \\\n",
       "0              4k-6k                         0.14   \n",
       "1              4k-6k                        14.56   \n",
       "2               0-2k                         4.06   \n",
       "3               0-2k                        32.34   \n",
       "5              4k-6k                        22.68   \n",
       "\n",
       "1                                Comment_paraphrased  \n",
       "0  As a passionate socialist, I highly recommend ...  \n",
       "1                                                NaN  \n",
       "2                                                NaN  \n",
       "3  I really enjoy this news website. It simplifie...  \n",
       "5              I use it to keep my kids entertained.  "
      ]
     },
     "execution_count": 101,
     "metadata": {},
     "output_type": "execute_result"
    }
   ],
   "source": [
    "# Display first five rows of the clean dataframe \n",
    "merged_df.head()"
   ]
  },
  {
   "cell_type": "code",
   "execution_count": null,
   "id": "23bddbdc-fc65-42c4-b7fc-181bc96caa1b",
   "metadata": {},
   "outputs": [],
   "source": [
    "# Save the cleaned DataFrame to an Excel file\n",
    "merged_df.to_excel(\"appendix1_with_names.xlsx\", index=False)"
   ]
  }
 ],
 "metadata": {
  "kernelspec": {
   "display_name": "Python 3 (ipykernel)",
   "language": "python",
   "name": "python3"
  },
  "language_info": {
   "codemirror_mode": {
    "name": "ipython",
    "version": 3
   },
   "file_extension": ".py",
   "mimetype": "text/x-python",
   "name": "python",
   "nbconvert_exporter": "python",
   "pygments_lexer": "ipython3",
   "version": "3.12.2"
  }
 },
 "nbformat": 4,
 "nbformat_minor": 5
}
